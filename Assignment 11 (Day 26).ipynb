{
 "cells": [
  {
   "cell_type": "markdown",
   "metadata": {},
   "source": [
    "Perform the shallow and deep copy experiment"
   ]
  },
  {
   "cell_type": "markdown",
   "metadata": {},
   "source": [
    "1. Shallow copy"
   ]
  },
  {
   "cell_type": "code",
   "execution_count": 1,
   "metadata": {},
   "outputs": [
    {
     "name": "stdout",
     "output_type": "stream",
     "text": [
      "['ben', 24, 'ten', 23]  this is list_A\n",
      "['ben', 24, 'ten', 23]  this is list_C\n",
      "2661541024008\n",
      "2661541023816\n"
     ]
    },
    {
     "data": {
      "text/plain": [
       "False"
      ]
     },
     "execution_count": 1,
     "metadata": {},
     "output_type": "execute_result"
    }
   ],
   "source": [
    "list_A=['ben',24,'ten',23]\n",
    "list_B=['kevin',143,8,'gwen']\n",
    "list_C=list_A[:]\n",
    "print(list_A,' this is list_A')\n",
    "print(list_C,' this is list_C')\n",
    "print(id(list_A))\n",
    "print(id(list_C))\n",
    "list_C is list_A"
   ]
  },
  {
   "cell_type": "code",
   "execution_count": 2,
   "metadata": {},
   "outputs": [
    {
     "name": "stdout",
     "output_type": "stream",
     "text": [
      "['ben', 24, 'ten', 23, 'max']  this is appended list_A\n",
      "['ben', 24, 'ten', 23, 'max']  this is list_D\n",
      "2661541024008\n",
      "2661541661064\n"
     ]
    },
    {
     "data": {
      "text/plain": [
       "False"
      ]
     },
     "execution_count": 2,
     "metadata": {},
     "output_type": "execute_result"
    }
   ],
   "source": [
    "list_A.append('max')\n",
    "list_D=list(list_A)\n",
    "print(list_A,' this is appended list_A')\n",
    "print(list_D,' this is list_D')\n",
    "print(id(list_A))\n",
    "print(id(list_D))\n",
    "list_D is list_A"
   ]
  },
  {
   "cell_type": "markdown",
   "metadata": {},
   "source": [
    "2. Deep copy"
   ]
  },
  {
   "cell_type": "code",
   "execution_count": 3,
   "metadata": {},
   "outputs": [
    {
     "name": "stdout",
     "output_type": "stream",
     "text": [
      "[['we'], 8, 69, ['are']]\n"
     ]
    }
   ],
   "source": [
    "from copy import deepcopy\n",
    "list_E=[['we'],8,69,['are']]\n",
    "list_F=deepcopy(list_E)\n",
    "print(list_E)"
   ]
  },
  {
   "cell_type": "code",
   "execution_count": 4,
   "metadata": {},
   "outputs": [
    {
     "name": "stdout",
     "output_type": "stream",
     "text": [
      "[['we'], 8, 69, ['are'], 143]  this is appended list_E\n",
      "[['we'], 8, 69, ['are']]  this is list_F\n"
     ]
    }
   ],
   "source": [
    "list_E.append(143)\n",
    "print(list_E,' this is appended list_E')\n",
    "print(list_F,' this is list_F')"
   ]
  },
  {
   "cell_type": "code",
   "execution_count": 5,
   "metadata": {},
   "outputs": [
    {
     "name": "stdout",
     "output_type": "stream",
     "text": [
      "[['we'], 8, 69, ['are', 'in'], 143]  this is list_E\n",
      "[['we'], 8, 69, ['are']]  this is list_F\n"
     ]
    }
   ],
   "source": [
    "list_E[3].append('in')\n",
    "print(list_E,' this is list_E')\n",
    "print(list_F,' this is list_F')"
   ]
  },
  {
   "cell_type": "code",
   "execution_count": 6,
   "metadata": {},
   "outputs": [
    {
     "name": "stdout",
     "output_type": "stream",
     "text": [
      "[['we'], 8, 69, ['are', 'in'], 143]  this is list_E\n",
      "[['we'], 8, 69, ['are', 'love']]  this is list_F\n"
     ]
    }
   ],
   "source": [
    "list_F[3].append('love')\n",
    "print(list_E,' this is list_E')\n",
    "print(list_F,' this is list_F')"
   ]
  },
  {
   "cell_type": "code",
   "execution_count": null,
   "metadata": {},
   "outputs": [],
   "source": []
  }
 ],
 "metadata": {
  "kernelspec": {
   "display_name": "Python 3",
   "language": "python",
   "name": "python3"
  },
  "language_info": {
   "codemirror_mode": {
    "name": "ipython",
    "version": 3
   },
   "file_extension": ".py",
   "mimetype": "text/x-python",
   "name": "python",
   "nbconvert_exporter": "python",
   "pygments_lexer": "ipython3",
   "version": "3.7.4"
  }
 },
 "nbformat": 4,
 "nbformat_minor": 2
}
