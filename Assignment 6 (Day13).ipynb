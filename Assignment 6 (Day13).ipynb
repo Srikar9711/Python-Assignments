{
 "cells": [
  {
   "cell_type": "markdown",
   "metadata": {},
   "source": [
    "Question 1"
   ]
  },
  {
   "cell_type": "raw",
   "metadata": {},
   "source": [
    "config file"
   ]
  },
  {
   "cell_type": "raw",
   "metadata": {},
   "source": [
    "from configparser import ConfigParser\n",
    "config = ConfigParser()\n",
    "config.read(\"con1.ini\")\n",
    "\n",
    "http_ip = config.get(\"HTTP\", \"IP\")\n",
    "http_port = config.getint(\"HTTP\", \"port\")\n",
    "\n",
    "print(\"http ip\", http_ip)\n",
    "print(\"http port\", http_port)"
   ]
  },
  {
   "cell_type": "raw",
   "metadata": {},
   "source": [
    "con1.ini file"
   ]
  },
  {
   "cell_type": "raw",
   "metadata": {},
   "source": [
    "[HTTP]\n",
    "ip = 192.168.10.1\n",
    "port = 8080\n",
    "\n",
    "[SQL]\n",
    "ip = 192.168.10.20\n",
    "port = 8082"
   ]
  },
  {
   "cell_type": "markdown",
   "metadata": {},
   "source": [
    "Question 2"
   ]
  },
  {
   "cell_type": "code",
   "execution_count": 2,
   "metadata": {},
   "outputs": [
    {
     "name": "stdout",
     "output_type": "stream",
     "text": [
      " Enter file marketing\n",
      "Marketing.pdf  :  ['C:\\\\Users\\\\dell\\\\Desktop\\\\Letsupgarde', 'C:\\\\Users\\\\dell\\\\Desktop\\\\Letsupgarde\\\\Duplicate', 'C:\\\\Users\\\\dell\\\\Desktop\\\\Letsupgarde\\\\New folder']\n"
     ]
    }
   ],
   "source": [
    "import os\n",
    "resp = os.walk(\"C:\\\\Users\\\\dell\\\\Desktop\\\\Letsupgarde\")\n",
    "d1 = {}\n",
    "for root,dirs,files in resp:\n",
    "\tfor file in files:\n",
    "\t\td1.setdefault(file,[]).append(root)\n",
    "file_name = input(\" Enter file \")\t\t\n",
    "for k,v in d1.items():\n",
    "\tif file_name.lower() in k.lower():\n",
    "\t\tprint(k ,\" : \", v)\n"
   ]
  },
  {
   "cell_type": "code",
   "execution_count": null,
   "metadata": {},
   "outputs": [],
   "source": []
  }
 ],
 "metadata": {
  "kernelspec": {
   "display_name": "Python 3",
   "language": "python",
   "name": "python3"
  },
  "language_info": {
   "codemirror_mode": {
    "name": "ipython",
    "version": 3
   },
   "file_extension": ".py",
   "mimetype": "text/x-python",
   "name": "python",
   "nbconvert_exporter": "python",
   "pygments_lexer": "ipython3",
   "version": "3.7.4"
  }
 },
 "nbformat": 4,
 "nbformat_minor": 2
}
