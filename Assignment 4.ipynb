{
 "cells": [
  {
   "cell_type": "code",
   "execution_count": 5,
   "metadata": {},
   "outputs": [
    {
     "name": "stdout",
     "output_type": "stream",
     "text": [
      "the random password is: Kx42a0?t_2hN\n"
     ]
    }
   ],
   "source": [
    "import random\n",
    "import string\n",
    "def get_random_password(letters_count, digits_count, special_count): \n",
    "    string1 = ''.join((random.choice(string.ascii_letters) for i in range(letters_count)))\n",
    "    string1 += ''.join((random.choice(string.digits) for i in range(digits_count)))\n",
    "    string1 += ''.join((random.choice(string.punctuation) for i in range(special_count)))\n",
    "    list1 = list(string1)\n",
    "    random.shuffle(list1) \n",
    "    final_word = ''.join(list1)\n",
    "    return final_word\n",
    "print(\"the random password is:\", get_random_password(6,4,2))"
   ]
  },
  {
   "cell_type": "code",
   "execution_count": null,
   "metadata": {},
   "outputs": [],
   "source": []
  }
 ],
 "metadata": {
  "kernelspec": {
   "display_name": "Python 3",
   "language": "python",
   "name": "python3"
  },
  "language_info": {
   "codemirror_mode": {
    "name": "ipython",
    "version": 3
   },
   "file_extension": ".py",
   "mimetype": "text/x-python",
   "name": "python",
   "nbconvert_exporter": "python",
   "pygments_lexer": "ipython3",
   "version": "3.7.4"
  }
 },
 "nbformat": 4,
 "nbformat_minor": 2
}
